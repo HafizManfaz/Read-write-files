{
 "cells": [
  {
   "cell_type": "code",
   "execution_count": 69,
   "metadata": {},
   "outputs": [],
   "source": [
    " my_file = \"C:/Users/sudo/Desktop/Manfaz.txt\""
   ]
  },
  {
   "cell_type": "code",
   "execution_count": 70,
   "metadata": {},
   "outputs": [],
   "source": [
    "my_file_object = open(my_file, \"r\") "
   ]
  },
  {
   "cell_type": "code",
   "execution_count": 71,
   "metadata": {},
   "outputs": [
    {
     "name": "stdout",
     "output_type": "stream",
     "text": [
      "This file is created by python programming.\n",
      "we are pakistani.\n",
      "now this era of A.I.\n"
     ]
    }
   ],
   "source": [
    " print(my_file_object.read())"
   ]
  },
  {
   "cell_type": "code",
   "execution_count": 72,
   "metadata": {},
   "outputs": [
    {
     "name": "stdout",
     "output_type": "stream",
     "text": [
      "C:/Users/sudo/Desktop/Manfaz.txt\n"
     ]
    }
   ],
   "source": [
    " print(my_file_object.name)"
   ]
  },
  {
   "cell_type": "code",
   "execution_count": 73,
   "metadata": {},
   "outputs": [
    {
     "name": "stdout",
     "output_type": "stream",
     "text": [
      "r\n"
     ]
    }
   ],
   "source": [
    " print(my_file_object.mode)\n",
    " "
   ]
  },
  {
   "cell_type": "code",
   "execution_count": 74,
   "metadata": {},
   "outputs": [],
   "source": [
    "  \n",
    "    my_file_object.close()\n",
    " "
   ]
  },
  {
   "cell_type": "code",
   "execution_count": 75,
   "metadata": {},
   "outputs": [
    {
     "name": "stdout",
     "output_type": "stream",
     "text": [
      "True\n"
     ]
    }
   ],
   "source": [
    "print(my_file_object.closed)"
   ]
  },
  {
   "cell_type": "code",
   "execution_count": 103,
   "metadata": {},
   "outputs": [
    {
     "name": "stdout",
     "output_type": "stream",
     "text": [
      "This \n",
      "r\n",
      "C:/Users/sudo/Desktop/Manfaz.txt\n",
      "<class 'str'>\n"
     ]
    }
   ],
   "source": [
    "with open(my_file, \"r\")as object2:\n",
    "    print(object2.read(5))\n",
    "    print(object2.mode)\n",
    "    print(object2.name)\n",
    "    print(type(my_file))\n",
    "    \n",
    "    \n",
    "     "
   ]
  },
  {
   "cell_type": "code",
   "execution_count": 77,
   "metadata": {},
   "outputs": [
    {
     "name": "stdout",
     "output_type": "stream",
     "text": [
      "This file is created by python programming.\n",
      "\n"
     ]
    }
   ],
   "source": [
    "with open(my_file, \"r\")as object2:\n",
    "    print(object2.readline())"
   ]
  },
  {
   "cell_type": "code",
   "execution_count": 78,
   "metadata": {},
   "outputs": [
    {
     "name": "stdout",
     "output_type": "stream",
     "text": [
      "This file \n",
      "is created \n",
      "by python\n"
     ]
    }
   ],
   "source": [
    "with open(my_file, \"r\")as object2:\n",
    "    print(object2.readline(10))\n",
    "    print(object2.readline(11))\n",
    "    print(object2.readline(9))"
   ]
  },
  {
   "cell_type": "code",
   "execution_count": 79,
   "metadata": {},
   "outputs": [
    {
     "name": "stdout",
     "output_type": "stream",
     "text": [
      "This file is created by python programming.\n",
      "\n"
     ]
    }
   ],
   "source": [
    "with open(my_file, \"r\")as object2:\n",
    "    print(object2.readline())"
   ]
  },
  {
   "cell_type": "code",
   "execution_count": 80,
   "metadata": {},
   "outputs": [
    {
     "name": "stdout",
     "output_type": "stream",
     "text": [
      "Line No : 1 =  This file is created by python programming.\n",
      "\n",
      "Line No : 2 =  we are pakistani.\n",
      "\n",
      "Line No : 3 =  now this era of A.I.\n"
     ]
    }
   ],
   "source": [
    " with open(my_file, \"r\")as object2:\n",
    "        i = 1\n",
    "        for p in object2:\n",
    "            print(\"Line No :\", i ,\"= \",p)\n",
    "            i+= 1"
   ]
  },
  {
   "cell_type": "code",
   "execution_count": 102,
   "metadata": {},
   "outputs": [
    {
     "name": "stdout",
     "output_type": "stream",
     "text": [
      "['This file is created by python programming.\\n', 'we are pakistani.\\n', 'now this era of A.I.']\n",
      "['This', 'file', 'is', 'created', 'by', 'python', 'programming.']\n",
      "['we', 'are', 'pakistani.']\n",
      "['now', 'this', 'era', 'of', 'A.I.']\n"
     ]
    }
   ],
   "source": [
    "with open(my_file, \"r\")as object2:\n",
    "    obj_list = object2.readlines()\n",
    "    print(obj_list)\n",
    "    u = 0\n",
    "    for i in obj_list:\n",
    "        print(obj_list[u].split())\n",
    "        u += 1\n",
    "      "
   ]
  },
  {
   "cell_type": "code",
   "execution_count": 98,
   "metadata": {},
   "outputs": [
    {
     "name": "stdout",
     "output_type": "stream",
     "text": [
      "now this era of A.I.\n"
     ]
    }
   ],
   "source": [
    " "
   ]
  },
  {
   "cell_type": "code",
   "execution_count": 94,
   "metadata": {},
   "outputs": [
    {
     "name": "stdout",
     "output_type": "stream",
     "text": [
      "5\n",
      "6\n",
      "87\n",
      "5\n",
      "3\n",
      "2\n",
      "3\n",
      "5\n"
     ]
    }
   ],
   "source": [
    "list1 = ['5',6,87,5,3,2,3,5]\n",
    "for i in list1:\n",
    "    print(i)"
   ]
  },
  {
   "cell_type": "code",
   "execution_count": 104,
   "metadata": {},
   "outputs": [],
   "source": [
    "my_new_file = \"C:/Users/sudo/Desktop/Manfaz2.txt\""
   ]
  },
  {
   "cell_type": "code",
   "execution_count": 109,
   "metadata": {},
   "outputs": [],
   "source": [
    "with open(my_new_file, \"w\")as object3:\n",
    "    object3.write(\"We are Pakistani\\n\")\n",
    "    "
   ]
  },
  {
   "cell_type": "code",
   "execution_count": 110,
   "metadata": {},
   "outputs": [
    {
     "name": "stdout",
     "output_type": "stream",
     "text": [
      "We are Pakistani\n",
      "\n"
     ]
    }
   ],
   "source": [
    "with open(my_new_file, \"r\")as object3:\n",
    "     print(object3.read())"
   ]
  },
  {
   "cell_type": "code",
   "execution_count": 113,
   "metadata": {},
   "outputs": [],
   "source": [
    "with open(my_new_file, \"a\")as object3:\n",
    "    object3.write(\"We love our country\\n\")\n",
    "    object3.write(\"We are Muslims\\n\")"
   ]
  },
  {
   "cell_type": "code",
   "execution_count": 114,
   "metadata": {},
   "outputs": [
    {
     "name": "stdout",
     "output_type": "stream",
     "text": [
      "We are Pakistani\n",
      "We love our country\n",
      "We love our country\n",
      "We are Muslims\n",
      "\n"
     ]
    }
   ],
   "source": [
    "with open(my_new_file, \"r\")as object3:\n",
    "     print(object3.read())"
   ]
  },
  {
   "cell_type": "code",
   "execution_count": 115,
   "metadata": {},
   "outputs": [],
   "source": [
    "with open(my_new_file, \"a\")as object3:\n",
    "    object3.write(\"Note : This file is created By python Programming technic\\n\")"
   ]
  },
  {
   "cell_type": "code",
   "execution_count": 117,
   "metadata": {},
   "outputs": [
    {
     "data": {
      "text/plain": [
       "['This is line A\\n', 'This is line B\\n', 'This is line C\\n']"
      ]
     },
     "execution_count": 117,
     "metadata": {},
     "output_type": "execute_result"
    }
   ],
   "source": [
    "Lines = [\"This is line A\\n\", \"This is line B\\n\", \"This is line C\\n\"]\n",
    "Lines"
   ]
  },
  {
   "cell_type": "code",
   "execution_count": 118,
   "metadata": {},
   "outputs": [],
   "source": [
    "with open(my_new_file, \"a\")as object3:\n",
    "     \n",
    "    for i in Lines:\n",
    "        object3.write(i)"
   ]
  },
  {
   "cell_type": "code",
   "execution_count": 119,
   "metadata": {},
   "outputs": [
    {
     "name": "stdout",
     "output_type": "stream",
     "text": [
      "We are Pakistani\n",
      "We love our country\n",
      "We love our country\n",
      "We are Muslims\n",
      "Note : This file is created By python Programming technic\n",
      "This is line A\n",
      "This is line B\n",
      "This is line C\n",
      "\n"
     ]
    }
   ],
   "source": [
    "with open(my_new_file, \"r\")as object3:\n",
    "    print(object3.read())"
   ]
  },
  {
   "cell_type": "code",
   "execution_count": null,
   "metadata": {},
   "outputs": [],
   "source": []
  }
 ],
 "metadata": {
  "kernelspec": {
   "display_name": "Python 3",
   "language": "python",
   "name": "python3"
  },
  "language_info": {
   "codemirror_mode": {
    "name": "ipython",
    "version": 3
   },
   "file_extension": ".py",
   "mimetype": "text/x-python",
   "name": "python",
   "nbconvert_exporter": "python",
   "pygments_lexer": "ipython3",
   "version": "3.7.4"
  }
 },
 "nbformat": 4,
 "nbformat_minor": 2
}
